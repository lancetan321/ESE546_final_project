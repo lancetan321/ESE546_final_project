{
 "cells": [
  {
   "cell_type": "code",
   "execution_count": 1,
   "metadata": {},
   "outputs": [],
   "source": [
    "''' use base anaconda kernel '''\n",
    "\n",
    "import pandas as pd\n",
    "import numpy as np\n",
    "import matplotlib.pyplot as plt\n",
    "\n",
    "import os\n",
    "from PIL import Image\n",
    "\n",
    "import time\n",
    "\n",
    "from pathlib import Path\n",
    "\n",
    "import cv2 as cv\n",
    "\n",
    "import torch\n",
    "import torchvision "
   ]
  },
  {
   "cell_type": "code",
   "execution_count": 2,
   "metadata": {},
   "outputs": [
    {
     "name": "stderr",
     "output_type": "stream",
     "text": [
      "/tmp/ipykernel_20956/2402431355.py:5: DtypeWarning: Columns (5,6,7) have mixed types. Specify dtype option on import or set low_memory=False.\n",
      "  df_cleaned = pd.read_csv('df_cleaned.csv')\n"
     ]
    },
    {
     "data": {
      "text/html": [
       "<div>\n",
       "<style scoped>\n",
       "    .dataframe tbody tr th:only-of-type {\n",
       "        vertical-align: middle;\n",
       "    }\n",
       "\n",
       "    .dataframe tbody tr th {\n",
       "        vertical-align: top;\n",
       "    }\n",
       "\n",
       "    .dataframe thead th {\n",
       "        text-align: right;\n",
       "    }\n",
       "</style>\n",
       "<table border=\"1\" class=\"dataframe\">\n",
       "  <thead>\n",
       "    <tr style=\"text-align: right;\">\n",
       "      <th></th>\n",
       "      <th>name</th>\n",
       "      <th>videoName</th>\n",
       "      <th>frameIndex</th>\n",
       "      <th>id</th>\n",
       "      <th>category</th>\n",
       "      <th>attributes.crowd</th>\n",
       "      <th>attributes.occluded</th>\n",
       "      <th>attributes.truncated</th>\n",
       "      <th>box2d.x1</th>\n",
       "      <th>box2d.x2</th>\n",
       "      <th>box2d.y1</th>\n",
       "      <th>box2d.y2</th>\n",
       "      <th>haveVideo</th>\n",
       "      <th>x</th>\n",
       "      <th>y</th>\n",
       "      <th>w</th>\n",
       "      <th>h</th>\n",
       "    </tr>\n",
       "  </thead>\n",
       "  <tbody>\n",
       "    <tr>\n",
       "      <th>0</th>\n",
       "      <td>01c71072-718028b8-0000002.jpg</td>\n",
       "      <td>01c71072-718028b8</td>\n",
       "      <td>1</td>\n",
       "      <td>89537.0</td>\n",
       "      <td>car</td>\n",
       "      <td>False</td>\n",
       "      <td>True</td>\n",
       "      <td>False</td>\n",
       "      <td>836.812933</td>\n",
       "      <td>1014.734411</td>\n",
       "      <td>355.011547</td>\n",
       "      <td>418.198614</td>\n",
       "      <td>True</td>\n",
       "      <td>836.812933</td>\n",
       "      <td>355.011547</td>\n",
       "      <td>177.921478</td>\n",
       "      <td>63.187067</td>\n",
       "    </tr>\n",
       "    <tr>\n",
       "      <th>1</th>\n",
       "      <td>01c71072-718028b8-0000002.jpg</td>\n",
       "      <td>01c71072-718028b8</td>\n",
       "      <td>1</td>\n",
       "      <td>89538.0</td>\n",
       "      <td>car</td>\n",
       "      <td>False</td>\n",
       "      <td>True</td>\n",
       "      <td>False</td>\n",
       "      <td>486.143187</td>\n",
       "      <td>705.727483</td>\n",
       "      <td>347.682421</td>\n",
       "      <td>422.725173</td>\n",
       "      <td>True</td>\n",
       "      <td>486.143187</td>\n",
       "      <td>347.682421</td>\n",
       "      <td>219.584296</td>\n",
       "      <td>75.042752</td>\n",
       "    </tr>\n",
       "    <tr>\n",
       "      <th>2</th>\n",
       "      <td>01c71072-718028b8-0000002.jpg</td>\n",
       "      <td>01c71072-718028b8</td>\n",
       "      <td>1</td>\n",
       "      <td>89539.0</td>\n",
       "      <td>pedestrian</td>\n",
       "      <td>False</td>\n",
       "      <td>True</td>\n",
       "      <td>False</td>\n",
       "      <td>653.071594</td>\n",
       "      <td>670.531178</td>\n",
       "      <td>338.383372</td>\n",
       "      <td>357.505774</td>\n",
       "      <td>True</td>\n",
       "      <td>653.071594</td>\n",
       "      <td>338.383372</td>\n",
       "      <td>17.459584</td>\n",
       "      <td>19.122402</td>\n",
       "    </tr>\n",
       "    <tr>\n",
       "      <th>3</th>\n",
       "      <td>01c71072-718028b8-0000002.jpg</td>\n",
       "      <td>01c71072-718028b8</td>\n",
       "      <td>1</td>\n",
       "      <td>89540.0</td>\n",
       "      <td>car</td>\n",
       "      <td>False</td>\n",
       "      <td>False</td>\n",
       "      <td>False</td>\n",
       "      <td>129.859655</td>\n",
       "      <td>198.354948</td>\n",
       "      <td>358.720910</td>\n",
       "      <td>406.558891</td>\n",
       "      <td>True</td>\n",
       "      <td>129.859655</td>\n",
       "      <td>358.720910</td>\n",
       "      <td>68.495292</td>\n",
       "      <td>47.837982</td>\n",
       "    </tr>\n",
       "    <tr>\n",
       "      <th>4</th>\n",
       "      <td>01c71072-718028b8-0000002.jpg</td>\n",
       "      <td>01c71072-718028b8</td>\n",
       "      <td>1</td>\n",
       "      <td>89541.0</td>\n",
       "      <td>car</td>\n",
       "      <td>False</td>\n",
       "      <td>False</td>\n",
       "      <td>False</td>\n",
       "      <td>260.739030</td>\n",
       "      <td>324.526559</td>\n",
       "      <td>353.487298</td>\n",
       "      <td>400.046189</td>\n",
       "      <td>True</td>\n",
       "      <td>260.739030</td>\n",
       "      <td>353.487298</td>\n",
       "      <td>63.787529</td>\n",
       "      <td>46.558891</td>\n",
       "    </tr>\n",
       "  </tbody>\n",
       "</table>\n",
       "</div>"
      ],
      "text/plain": [
       "                            name          videoName  frameIndex       id  \\\n",
       "0  01c71072-718028b8-0000002.jpg  01c71072-718028b8           1  89537.0   \n",
       "1  01c71072-718028b8-0000002.jpg  01c71072-718028b8           1  89538.0   \n",
       "2  01c71072-718028b8-0000002.jpg  01c71072-718028b8           1  89539.0   \n",
       "3  01c71072-718028b8-0000002.jpg  01c71072-718028b8           1  89540.0   \n",
       "4  01c71072-718028b8-0000002.jpg  01c71072-718028b8           1  89541.0   \n",
       "\n",
       "     category attributes.crowd attributes.occluded attributes.truncated  \\\n",
       "0         car            False                True                False   \n",
       "1         car            False                True                False   \n",
       "2  pedestrian            False                True                False   \n",
       "3         car            False               False                False   \n",
       "4         car            False               False                False   \n",
       "\n",
       "     box2d.x1     box2d.x2    box2d.y1    box2d.y2  haveVideo           x  \\\n",
       "0  836.812933  1014.734411  355.011547  418.198614       True  836.812933   \n",
       "1  486.143187   705.727483  347.682421  422.725173       True  486.143187   \n",
       "2  653.071594   670.531178  338.383372  357.505774       True  653.071594   \n",
       "3  129.859655   198.354948  358.720910  406.558891       True  129.859655   \n",
       "4  260.739030   324.526559  353.487298  400.046189       True  260.739030   \n",
       "\n",
       "            y           w          h  \n",
       "0  355.011547  177.921478  63.187067  \n",
       "1  347.682421  219.584296  75.042752  \n",
       "2  338.383372   17.459584  19.122402  \n",
       "3  358.720910   68.495292  47.837982  \n",
       "4  353.487298   63.787529  46.558891  "
      ]
     },
     "execution_count": 2,
     "metadata": {},
     "output_type": "execute_result"
    }
   ],
   "source": [
    "# loading in the data\n",
    "\n",
    "# load in the dataframe:\n",
    "\n",
    "df_cleaned = pd.read_csv('df_cleaned.csv')\n",
    "\n",
    "df_cleaned.head()"
   ]
  },
  {
   "cell_type": "markdown",
   "metadata": {},
   "source": [
    "# Load in the train & test datasets"
   ]
  },
  {
   "cell_type": "code",
   "execution_count": 3,
   "metadata": {},
   "outputs": [],
   "source": [
    "# load in the train & test datasets:\n",
    "\n",
    "train_videos = pd.read_csv('train_videos.csv',header=None, index_col=0)\n",
    "test_videos = pd.read_csv('test_videos.csv',header=None, index_col=0)\n",
    "\n",
    "X_train_list = list(train_videos[1])\n",
    "X_test_list = list(test_videos[1])\n"
   ]
  },
  {
   "cell_type": "code",
   "execution_count": 4,
   "metadata": {},
   "outputs": [
    {
     "name": "stderr",
     "output_type": "stream",
     "text": [
      "/tmp/ipykernel_20956/1855452194.py:1: DtypeWarning: Columns (5,6,7) have mixed types. Specify dtype option on import or set low_memory=False.\n",
      "  train_df = pd.read_csv('train_df.csv', index_col=0)\n",
      "/tmp/ipykernel_20956/1855452194.py:3: DtypeWarning: Columns (5,6,7) have mixed types. Specify dtype option on import or set low_memory=False.\n",
      "  test_df = pd.read_csv('test_df.csv', index_col=0)\n"
     ]
    }
   ],
   "source": [
    "train_df = pd.read_csv('train_df.csv', index_col=0)\n",
    "train_df.reset_index(inplace=True)\n",
    "test_df = pd.read_csv('test_df.csv', index_col=0)\n",
    "test_df.reset_index(inplace=True)\n"
   ]
  },
  {
   "cell_type": "code",
   "execution_count": 5,
   "metadata": {},
   "outputs": [
    {
     "data": {
      "text/html": [
       "<div>\n",
       "<style scoped>\n",
       "    .dataframe tbody tr th:only-of-type {\n",
       "        vertical-align: middle;\n",
       "    }\n",
       "\n",
       "    .dataframe tbody tr th {\n",
       "        vertical-align: top;\n",
       "    }\n",
       "\n",
       "    .dataframe thead th {\n",
       "        text-align: right;\n",
       "    }\n",
       "</style>\n",
       "<table border=\"1\" class=\"dataframe\">\n",
       "  <thead>\n",
       "    <tr style=\"text-align: right;\">\n",
       "      <th></th>\n",
       "      <th>name</th>\n",
       "      <th>videoName</th>\n",
       "      <th>frameIndex</th>\n",
       "      <th>id</th>\n",
       "      <th>category</th>\n",
       "      <th>attributes.crowd</th>\n",
       "      <th>attributes.occluded</th>\n",
       "      <th>attributes.truncated</th>\n",
       "      <th>box2d.x1</th>\n",
       "      <th>box2d.x2</th>\n",
       "      <th>box2d.y1</th>\n",
       "      <th>box2d.y2</th>\n",
       "      <th>haveVideo</th>\n",
       "      <th>x</th>\n",
       "      <th>y</th>\n",
       "      <th>w</th>\n",
       "      <th>h</th>\n",
       "    </tr>\n",
       "  </thead>\n",
       "  <tbody>\n",
       "    <tr>\n",
       "      <th>0</th>\n",
       "      <td>01c71072-718028b8-0000002.jpg</td>\n",
       "      <td>01c71072-718028b8</td>\n",
       "      <td>1</td>\n",
       "      <td>89537.0</td>\n",
       "      <td>car</td>\n",
       "      <td>False</td>\n",
       "      <td>True</td>\n",
       "      <td>False</td>\n",
       "      <td>836.812933</td>\n",
       "      <td>1014.734411</td>\n",
       "      <td>355.011547</td>\n",
       "      <td>418.198614</td>\n",
       "      <td>True</td>\n",
       "      <td>836.812933</td>\n",
       "      <td>355.011547</td>\n",
       "      <td>177.921478</td>\n",
       "      <td>63.187067</td>\n",
       "    </tr>\n",
       "    <tr>\n",
       "      <th>1</th>\n",
       "      <td>01c71072-718028b8-0000002.jpg</td>\n",
       "      <td>01c71072-718028b8</td>\n",
       "      <td>1</td>\n",
       "      <td>89538.0</td>\n",
       "      <td>car</td>\n",
       "      <td>False</td>\n",
       "      <td>True</td>\n",
       "      <td>False</td>\n",
       "      <td>486.143187</td>\n",
       "      <td>705.727483</td>\n",
       "      <td>347.682421</td>\n",
       "      <td>422.725173</td>\n",
       "      <td>True</td>\n",
       "      <td>486.143187</td>\n",
       "      <td>347.682421</td>\n",
       "      <td>219.584296</td>\n",
       "      <td>75.042752</td>\n",
       "    </tr>\n",
       "    <tr>\n",
       "      <th>2</th>\n",
       "      <td>01c71072-718028b8-0000002.jpg</td>\n",
       "      <td>01c71072-718028b8</td>\n",
       "      <td>1</td>\n",
       "      <td>89539.0</td>\n",
       "      <td>pedestrian</td>\n",
       "      <td>False</td>\n",
       "      <td>True</td>\n",
       "      <td>False</td>\n",
       "      <td>653.071594</td>\n",
       "      <td>670.531178</td>\n",
       "      <td>338.383372</td>\n",
       "      <td>357.505774</td>\n",
       "      <td>True</td>\n",
       "      <td>653.071594</td>\n",
       "      <td>338.383372</td>\n",
       "      <td>17.459584</td>\n",
       "      <td>19.122402</td>\n",
       "    </tr>\n",
       "    <tr>\n",
       "      <th>3</th>\n",
       "      <td>01c71072-718028b8-0000002.jpg</td>\n",
       "      <td>01c71072-718028b8</td>\n",
       "      <td>1</td>\n",
       "      <td>89540.0</td>\n",
       "      <td>car</td>\n",
       "      <td>False</td>\n",
       "      <td>False</td>\n",
       "      <td>False</td>\n",
       "      <td>129.859655</td>\n",
       "      <td>198.354948</td>\n",
       "      <td>358.720910</td>\n",
       "      <td>406.558891</td>\n",
       "      <td>True</td>\n",
       "      <td>129.859655</td>\n",
       "      <td>358.720910</td>\n",
       "      <td>68.495292</td>\n",
       "      <td>47.837982</td>\n",
       "    </tr>\n",
       "    <tr>\n",
       "      <th>4</th>\n",
       "      <td>01c71072-718028b8-0000002.jpg</td>\n",
       "      <td>01c71072-718028b8</td>\n",
       "      <td>1</td>\n",
       "      <td>89541.0</td>\n",
       "      <td>car</td>\n",
       "      <td>False</td>\n",
       "      <td>False</td>\n",
       "      <td>False</td>\n",
       "      <td>260.739030</td>\n",
       "      <td>324.526559</td>\n",
       "      <td>353.487298</td>\n",
       "      <td>400.046189</td>\n",
       "      <td>True</td>\n",
       "      <td>260.739030</td>\n",
       "      <td>353.487298</td>\n",
       "      <td>63.787529</td>\n",
       "      <td>46.558891</td>\n",
       "    </tr>\n",
       "  </tbody>\n",
       "</table>\n",
       "</div>"
      ],
      "text/plain": [
       "                            name          videoName  frameIndex       id  \\\n",
       "0  01c71072-718028b8-0000002.jpg  01c71072-718028b8           1  89537.0   \n",
       "1  01c71072-718028b8-0000002.jpg  01c71072-718028b8           1  89538.0   \n",
       "2  01c71072-718028b8-0000002.jpg  01c71072-718028b8           1  89539.0   \n",
       "3  01c71072-718028b8-0000002.jpg  01c71072-718028b8           1  89540.0   \n",
       "4  01c71072-718028b8-0000002.jpg  01c71072-718028b8           1  89541.0   \n",
       "\n",
       "     category attributes.crowd attributes.occluded attributes.truncated  \\\n",
       "0         car            False                True                False   \n",
       "1         car            False                True                False   \n",
       "2  pedestrian            False                True                False   \n",
       "3         car            False               False                False   \n",
       "4         car            False               False                False   \n",
       "\n",
       "     box2d.x1     box2d.x2    box2d.y1    box2d.y2  haveVideo           x  \\\n",
       "0  836.812933  1014.734411  355.011547  418.198614       True  836.812933   \n",
       "1  486.143187   705.727483  347.682421  422.725173       True  486.143187   \n",
       "2  653.071594   670.531178  338.383372  357.505774       True  653.071594   \n",
       "3  129.859655   198.354948  358.720910  406.558891       True  129.859655   \n",
       "4  260.739030   324.526559  353.487298  400.046189       True  260.739030   \n",
       "\n",
       "            y           w          h  \n",
       "0  355.011547  177.921478  63.187067  \n",
       "1  347.682421  219.584296  75.042752  \n",
       "2  338.383372   17.459584  19.122402  \n",
       "3  358.720910   68.495292  47.837982  \n",
       "4  353.487298   63.787529  46.558891  "
      ]
     },
     "execution_count": 5,
     "metadata": {},
     "output_type": "execute_result"
    }
   ],
   "source": [
    "train_df.head()"
   ]
  },
  {
   "cell_type": "code",
   "execution_count": 6,
   "metadata": {},
   "outputs": [
    {
     "name": "stdout",
     "output_type": "stream",
     "text": [
      "Number of videos: 961\n",
      "Video Name: 01c71072-718028b8\n",
      "Number of frames for selected video: 201\n"
     ]
    }
   ],
   "source": [
    "# picking an example video:\n",
    "\n",
    "print(f\"Number of videos: {df_cleaned['videoName'].nunique()}\")\n",
    "\n",
    "\n",
    "video = df_cleaned['videoName'].unique()[0]\n",
    "print(f\"Video Name: {video}\")\n",
    "\n",
    "frameNums = df_cleaned[df_cleaned['videoName'] == video]['frameIndex'].unique()\n",
    "numFrames = len(frameNums)\n",
    "\n",
    "print(f\"Number of frames for selected video: {numFrames}\")"
   ]
  },
  {
   "cell_type": "markdown",
   "metadata": {},
   "source": [
    "# Connect to AWS GPU"
   ]
  },
  {
   "cell_type": "code",
   "execution_count": 7,
   "metadata": {},
   "outputs": [
    {
     "name": "stdout",
     "output_type": "stream",
     "text": [
      "GPU available.... connecting now\n",
      "NVIDIA A10G\n"
     ]
    }
   ],
   "source": [
    "'''\n",
    "CONNECT TO GPU OF AWS\n",
    "'''\n",
    "\n",
    "# Check if CUDA (GPU support) is available\n",
    "if torch.cuda.is_available():\n",
    "    print(\"GPU available.... connecting now\")\n",
    "    print(torch.cuda.get_device_name(0))  # Print GPU name\n",
    "else:\n",
    "    print(\"GPU not available\")\n",
    "\n",
    "# Check if GPU is available and set device\n",
    "device = torch.device(\"cuda\" if torch.cuda.is_available() else \"cpu\")\n",
    "\n"
   ]
  },
  {
   "cell_type": "markdown",
   "metadata": {},
   "source": [
    "# Set up YOLO Model"
   ]
  },
  {
   "cell_type": "code",
   "execution_count": 8,
   "metadata": {},
   "outputs": [
    {
     "name": "stdout",
     "output_type": "stream",
     "text": [
      "/home/ubuntu/project\n"
     ]
    }
   ],
   "source": [
    "# helper for easier paths to datasets\n",
    "\n",
    "import os\n",
    "HOME = os.getcwd()\n",
    "print(HOME)"
   ]
  },
  {
   "cell_type": "code",
   "execution_count": 10,
   "metadata": {},
   "outputs": [
    {
     "name": "stdout",
     "output_type": "stream",
     "text": [
      "Ultralytics YOLOv8.0.227 🚀 Python-3.11.5 torch-2.1.2 CUDA:0 (NVIDIA A10G, 22564MiB)\n",
      "Setup complete ✅ (4 CPUs, 15.4 GB RAM, 105.2/248.1 GB disk)\n"
     ]
    }
   ],
   "source": [
    "# # Pip install method (recommended)\n",
    "\n",
    "# !pip install git+https://github.com/ultralytics/ultralytics.git@main\n",
    "\n",
    "# !pip install ultralytics\n",
    "\n",
    "!pip install -r requirements.txt\n",
    "\n",
    "!pip install ultralytics==8.0.20\n",
    "\n",
    "from IPython import display\n",
    "display.clear_output()\n",
    "\n",
    "import ultralytics\n",
    "ultralytics.checks()"
   ]
  },
  {
   "cell_type": "code",
   "execution_count": 11,
   "metadata": {},
   "outputs": [
    {
     "data": {
      "text/plain": [
       "'OTHER POSSIBLE WAY OF INSTALLING YOLO WOULD HAVE BEEN USING CLONE \\n(commented out below; we already installed w/ ultralytics above)'"
      ]
     },
     "execution_count": 11,
     "metadata": {},
     "output_type": "execute_result"
    }
   ],
   "source": [
    "'''OTHER POSSIBLE WAY OF INSTALLING YOLO WOULD HAVE BEEN USING CLONE \n",
    "(commented out below; we already installed w/ ultralytics above)'''\n",
    "\n",
    "# Git clone method (for development)\n",
    "\n",
    "# %cd {HOME}\n",
    "# !git clone github.com/ultralytics/ultralytics\n",
    "# %cd {HOME}/ultralytics\n",
    "# !pip install -e .\n",
    "\n",
    "# from IPython import display\n",
    "# display.clear_output()\n",
    "\n",
    "# import ultralytics\n",
    "# ultralytics.checks()"
   ]
  },
  {
   "cell_type": "code",
   "execution_count": 12,
   "metadata": {},
   "outputs": [],
   "source": [
    "# git clone https://github.com/ultralytics/ultralytics\n",
    "# cd ultralytics\n",
    "# pip install -e ultralytics"
   ]
  },
  {
   "cell_type": "code",
   "execution_count": 13,
   "metadata": {},
   "outputs": [],
   "source": [
    "from ultralytics import YOLO\n",
    "\n",
    "from IPython.display import display, Image"
   ]
  },
  {
   "cell_type": "markdown",
   "metadata": {},
   "source": [
    "## 2 different methods:\n",
    "\n",
    "- (1) CLI\n",
    "    - task --> detect, classify, or segment \n",
    "    - mode --> train, val, predict, or export\n",
    "    - model --> weights to use (yolov8n.pt)\n",
    "    - conf --> confidence (0.25)\n",
    "    - source --> image to use\n",
    "\n",
    "- (2) SDK \n",
    "\n"
   ]
  },
  {
   "cell_type": "markdown",
   "metadata": {},
   "source": [
    "* test run a prediction on any image"
   ]
  },
  {
   "cell_type": "code",
   "execution_count": 47,
   "metadata": {},
   "outputs": [
    {
     "name": "stdout",
     "output_type": "stream",
     "text": [
      "01c71072-718028b8-0000002.jpg\n",
      "frames_v2/\n"
     ]
    }
   ],
   "source": [
    "# load in an example image to test it on:\n",
    "video = train_df['name'][0]\n",
    "print(video)\n",
    "\n",
    "path = 'frames_v2/'\n",
    "print(path)"
   ]
  },
  {
   "cell_type": "markdown",
   "metadata": {},
   "source": [
    "## CLI"
   ]
  },
  {
   "cell_type": "markdown",
   "metadata": {},
   "source": [
    "* CLI is for trainnig, testing, and predicting in terminal\n",
    "\n",
    "* testing it on external image:"
   ]
  },
  {
   "cell_type": "code",
   "execution_count": 46,
   "metadata": {},
   "outputs": [],
   "source": [
    "# %cd {HOME}\n",
    "# !yolo task=detect mode=predict model=yolov8n.pt conf=0.25 source='https://media.roboflow.com/notebooks/examples/dog.jpeg' save=True"
   ]
  },
  {
   "cell_type": "code",
   "execution_count": 45,
   "metadata": {},
   "outputs": [],
   "source": [
    "# %cd {HOME}\n",
    "# !yolo task=detect mode=predict model=yolov8n.pt conf=0.25 source='frames_v2/01c71072-718028b8-0000002.jpg' save=True"
   ]
  },
  {
   "cell_type": "code",
   "execution_count": 44,
   "metadata": {},
   "outputs": [],
   "source": [
    "# %cd {HOME}\n",
    "# Image(filename=f'{HOME}01c71072-718028b8-0000002.jpg', width=600)"
   ]
  },
  {
   "cell_type": "markdown",
   "metadata": {},
   "source": [
    "* trying it with our data"
   ]
  },
  {
   "cell_type": "code",
   "execution_count": 43,
   "metadata": {},
   "outputs": [],
   "source": [
    "# %cd {HOME}\n",
    "# !yolo task=detect mode=predict model=yolov8n.pt conf=0.25 source=video save=True"
   ]
  },
  {
   "cell_type": "code",
   "execution_count": 42,
   "metadata": {},
   "outputs": [],
   "source": [
    "# %cd {HOME}\n",
    "# Image(filename=video, height=600)"
   ]
  },
  {
   "cell_type": "markdown",
   "metadata": {},
   "source": [
    "## SDK"
   ]
  },
  {
   "cell_type": "markdown",
   "metadata": {},
   "source": [
    "* attempt on external image"
   ]
  },
  {
   "cell_type": "code",
   "execution_count": 19,
   "metadata": {},
   "outputs": [
    {
     "name": "stdout",
     "output_type": "stream",
     "text": [
      "\n",
      "Downloading https://media.roboflow.com/notebooks/examples/dog.jpeg to 'dog.jpeg'...\n"
     ]
    },
    {
     "name": "stderr",
     "output_type": "stream",
     "text": [
      "100%|██████████| 104k/104k [00:00<00:00, 21.4MB/s]\n"
     ]
    },
    {
     "name": "stdout",
     "output_type": "stream",
     "text": [
      "image 1/1 /home/ubuntu/project/dog.jpeg: 640x384 1 person, 1 car, 1 dog, 103.5ms\n",
      "Speed: 3.5ms preprocess, 103.5ms inference, 34.1ms postprocess per image at shape (1, 3, 640, 384)\n"
     ]
    }
   ],
   "source": [
    "model = YOLO(f'{HOME}/yolov8n.pt')\n",
    "results = model.predict(source='https://media.roboflow.com/notebooks/examples/dog.jpeg', conf=0.25)"
   ]
  },
  {
   "cell_type": "code",
   "execution_count": 20,
   "metadata": {},
   "outputs": [
    {
     "data": {
      "text/plain": [
       "tensor([[   0.0000,  314.5087,  625.0571, 1278.1863],\n",
       "        [  55.2816,  250.0128,  648.1115, 1266.2483],\n",
       "        [ 633.2319,  719.5338,  701.0594,  786.0319]], device='cuda:0')"
      ]
     },
     "execution_count": 20,
     "metadata": {},
     "output_type": "execute_result"
    }
   ],
   "source": [
    "results[0].boxes.xyxy"
   ]
  },
  {
   "cell_type": "code",
   "execution_count": 21,
   "metadata": {},
   "outputs": [
    {
     "data": {
      "text/plain": [
       "tensor([0.7267, 0.2908, 0.2840], device='cuda:0')"
      ]
     },
     "execution_count": 21,
     "metadata": {},
     "output_type": "execute_result"
    }
   ],
   "source": [
    "results[0].boxes.conf"
   ]
  },
  {
   "cell_type": "code",
   "execution_count": 22,
   "metadata": {},
   "outputs": [
    {
     "data": {
      "text/plain": [
       "tensor([ 0., 16.,  2.], device='cuda:0')"
      ]
     },
     "execution_count": 22,
     "metadata": {},
     "output_type": "execute_result"
    }
   ],
   "source": [
    "results[0].boxes.cls"
   ]
  },
  {
   "cell_type": "markdown",
   "metadata": {},
   "source": [
    "* attempt on our own image"
   ]
  },
  {
   "cell_type": "code",
   "execution_count": 28,
   "metadata": {},
   "outputs": [
    {
     "name": "stdout",
     "output_type": "stream",
     "text": [
      "\n",
      "image 1/1 /home/ubuntu/project/frames_v2/01c71072-718028b8-0000002.jpg: 384x640 3 cars, 5.8ms\n",
      "Speed: 1.0ms preprocess, 5.8ms inference, 1.1ms postprocess per image at shape (1, 3, 384, 640)\n"
     ]
    }
   ],
   "source": [
    "model = YOLO(f'{HOME}/yolov8n.pt')\n",
    "\n",
    "results = model.predict(\n",
    "   source='frames_v2/01c71072-718028b8-0000002.jpg',\n",
    "   conf=0.25\n",
    ")"
   ]
  },
  {
   "cell_type": "code",
   "execution_count": 29,
   "metadata": {},
   "outputs": [
    {
     "data": {
      "text/plain": [
       "tensor([[  7.5780, 369.1844,  94.9579, 421.8085],\n",
       "        [452.8893, 356.5795, 595.4589, 431.6505],\n",
       "        [116.7452, 363.6737, 197.2686, 412.7683]], device='cuda:0')"
      ]
     },
     "execution_count": 29,
     "metadata": {},
     "output_type": "execute_result"
    }
   ],
   "source": [
    "results[0].boxes.xyxy"
   ]
  },
  {
   "cell_type": "code",
   "execution_count": 30,
   "metadata": {},
   "outputs": [
    {
     "data": {
      "text/plain": [
       "tensor([0.6936, 0.4158, 0.3331], device='cuda:0')"
      ]
     },
     "execution_count": 30,
     "metadata": {},
     "output_type": "execute_result"
    }
   ],
   "source": [
    "results[0].boxes.conf"
   ]
  },
  {
   "cell_type": "code",
   "execution_count": 31,
   "metadata": {},
   "outputs": [
    {
     "data": {
      "text/plain": [
       "tensor([2., 2., 2.], device='cuda:0')"
      ]
     },
     "execution_count": 31,
     "metadata": {},
     "output_type": "execute_result"
    }
   ],
   "source": [
    "results[0].boxes.cls"
   ]
  },
  {
   "cell_type": "code",
   "execution_count": null,
   "metadata": {},
   "outputs": [],
   "source": []
  }
 ],
 "metadata": {
  "kernelspec": {
   "display_name": "base",
   "language": "python",
   "name": "python3"
  },
  "language_info": {
   "codemirror_mode": {
    "name": "ipython",
    "version": 3
   },
   "file_extension": ".py",
   "mimetype": "text/x-python",
   "name": "python",
   "nbconvert_exporter": "python",
   "pygments_lexer": "ipython3",
   "version": "3.11.5"
  },
  "orig_nbformat": 4
 },
 "nbformat": 4,
 "nbformat_minor": 2
}
